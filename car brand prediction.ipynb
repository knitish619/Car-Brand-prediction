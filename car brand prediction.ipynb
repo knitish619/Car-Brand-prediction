{
 "cells": [
  {
   "cell_type": "code",
   "execution_count": 1,
   "id": "fc14f4a1",
   "metadata": {},
   "outputs": [],
   "source": [
    "import tensorflow as tf\n",
    "from tensorflow.keras.applications import ResNet50\n",
    "import os\n",
    "import numpy as np\n",
    "from keras.preprocessing.image import ImageDataGenerator\n",
    "from tensorflow.keras.layers import Dense, Dropout, Flatten\n",
    "from tensorflow.keras.optimizers import Adam\n",
    "from tensorflow.keras.models import Sequential"
   ]
  },
  {
   "cell_type": "code",
   "execution_count": 2,
   "id": "07c4c43c",
   "metadata": {},
   "outputs": [],
   "source": [
    "# The Convolutional Base of the Pre-Trained Model will be added as a Layer in this Model\n",
    "Conv_Base = ResNet50(include_top = False, weights ='imagenet', input_shape = (150,150, 3),pooling='max',classes=5)"
   ]
  },
  {
   "cell_type": "code",
   "execution_count": 3,
   "id": "c540ac49",
   "metadata": {},
   "outputs": [],
   "source": [
    "for layer in Conv_Base.layers[:-8]:\n",
    "    layer.trainable = False"
   ]
  },
  {
   "cell_type": "code",
   "execution_count": 4,
   "id": "d297560a",
   "metadata": {},
   "outputs": [],
   "source": [
    "model = Sequential()\n",
    "model.add(Conv_Base)\n",
    "model.add(Flatten())\n",
    "model.add(Dense(units = 256, activation = 'relu'))\n",
    "model.add(Dropout(0.5))\n",
    "model.add(Dense(units = 5, activation = 'sigmoid'))"
   ]
  },
  {
   "cell_type": "code",
   "execution_count": 5,
   "id": "fe065a58",
   "metadata": {},
   "outputs": [
    {
     "name": "stdout",
     "output_type": "stream",
     "text": [
      "Model: \"sequential\"\n",
      "_________________________________________________________________\n",
      " Layer (type)                Output Shape              Param #   \n",
      "=================================================================\n",
      " resnet50 (Functional)       (None, 2048)              23587712  \n",
      "                                                                 \n",
      " flatten (Flatten)           (None, 2048)              0         \n",
      "                                                                 \n",
      " dense (Dense)               (None, 256)               524544    \n",
      "                                                                 \n",
      " dropout (Dropout)           (None, 256)               0         \n",
      "                                                                 \n",
      " dense_1 (Dense)             (None, 5)                 1285      \n",
      "                                                                 \n",
      "=================================================================\n",
      "Total params: 24,113,541\n",
      "Trainable params: 3,941,381\n",
      "Non-trainable params: 20,172,160\n",
      "_________________________________________________________________\n"
     ]
    }
   ],
   "source": [
    "model.summary()"
   ]
  },
  {
   "cell_type": "code",
   "execution_count": 6,
   "id": "f38bd628",
   "metadata": {},
   "outputs": [],
   "source": [
    "Train_Datagen =ImageDataGenerator(rotation_range=10, # rotation\n",
    "        width_shift_range=0.2, # horizontal shift\n",
    "        height_shift_range=0.2, # vertical shift\n",
    "        zoom_range=0.2, # zoom\n",
    "        horizontal_flip=True, # horizontal flip\n",
    "        brightness_range=[0.2,1.2]) # brightness))"
   ]
  },
  {
   "cell_type": "code",
   "execution_count": 7,
   "id": "9c439055",
   "metadata": {},
   "outputs": [],
   "source": [
    "#Val_Datagen = ImageDataGenerator(dtype = 'float32', preprocessing_function=tf.keras.applications.resnet.preprocess_input)\n",
    "Val_Datagen =ImageDataGenerator()\n"
   ]
  },
  {
   "cell_type": "code",
   "execution_count": 8,
   "id": "3bca609d",
   "metadata": {},
   "outputs": [
    {
     "data": {
      "text/plain": [
       "WindowsPath('C:/Users/nithi/Desktop/mini-train')"
      ]
     },
     "execution_count": 8,
     "metadata": {},
     "output_type": "execute_result"
    }
   ],
   "source": [
    "train_dir=\"C:\\\\Users\\\\nithi\\\\Desktop\\\\mini-train\"\n",
    "import pathlib\n",
    "train_dir = pathlib.Path(train_dir)\n",
    "train_dir"
   ]
  },
  {
   "cell_type": "code",
   "execution_count": 9,
   "id": "d8c1f737",
   "metadata": {},
   "outputs": [
    {
     "data": {
      "text/plain": [
       "WindowsPath('C:/Users/nithi/Desktop/mini_test')"
      ]
     },
     "execution_count": 9,
     "metadata": {},
     "output_type": "execute_result"
    }
   ],
   "source": [
    "test_dir=\"C:\\\\Users\\\\nithi\\\\Desktop\\\\mini_test\"\n",
    "import pathlib\n",
    "test_dir= pathlib.Path(test_dir)\n",
    "test_dir"
   ]
  },
  {
   "cell_type": "code",
   "execution_count": 10,
   "id": "94be5dc1",
   "metadata": {},
   "outputs": [
    {
     "name": "stdout",
     "output_type": "stream",
     "text": [
      "Found 791 images belonging to 5 classes.\n"
     ]
    }
   ],
   "source": [
    "train_gen = Train_Datagen.flow_from_directory(directory = train_dir, target_size = (150,150), \n",
    "                                       batch_size = 32, class_mode = 'categorical')\n"
   ]
  },
  {
   "cell_type": "code",
   "execution_count": 11,
   "id": "83cb549d",
   "metadata": {},
   "outputs": [
    {
     "name": "stdout",
     "output_type": "stream",
     "text": [
      "Found 181 images belonging to 5 classes.\n"
     ]
    }
   ],
   "source": [
    "val_gen = Val_Datagen.flow_from_directory(directory = test_dir, target_size = (150,150), \n",
    "                                       batch_size = 32, class_mode = 'categorical')"
   ]
  },
  {
   "cell_type": "code",
   "execution_count": 12,
   "id": "8f9fdebc",
   "metadata": {},
   "outputs": [],
   "source": [
    "model.compile(optimizer = 'Nadam', loss = 'categorical_crossentropy', metrics = ['accuracy'])"
   ]
  },
  {
   "cell_type": "code",
   "execution_count": 13,
   "id": "fd4db52f",
   "metadata": {},
   "outputs": [
    {
     "name": "stdout",
     "output_type": "stream",
     "text": [
      "Epoch 1/20\n",
      "15/25 [=================>............] - ETA: 11s - loss: 6.7395 - accuracy: 0.3970"
     ]
    },
    {
     "name": "stderr",
     "output_type": "stream",
     "text": [
      "C:\\Users\\nithi\\anaconda3\\lib\\site-packages\\PIL\\Image.py:945: UserWarning: Palette images with Transparency expressed in bytes should be converted to RGBA images\n",
      "  warnings.warn(\n"
     ]
    },
    {
     "name": "stdout",
     "output_type": "stream",
     "text": [
      "25/25 [==============================] - 43s 1s/step - loss: 4.8028 - accuracy: 0.4286 - val_loss: 1.2303 - val_accuracy: 0.5746\n",
      "Epoch 2/20\n",
      "25/25 [==============================] - 36s 1s/step - loss: 1.1376 - accuracy: 0.5638 - val_loss: 1.2752 - val_accuracy: 0.5856\n",
      "Epoch 3/20\n",
      "25/25 [==============================] - 32s 1s/step - loss: 1.0251 - accuracy: 0.6182 - val_loss: 1.1514 - val_accuracy: 0.6354\n",
      "Epoch 4/20\n",
      "25/25 [==============================] - 32s 1s/step - loss: 0.9000 - accuracy: 0.6751 - val_loss: 0.8022 - val_accuracy: 0.6851\n",
      "Epoch 5/20\n",
      "25/25 [==============================] - 32s 1s/step - loss: 0.8505 - accuracy: 0.6903 - val_loss: 1.0038 - val_accuracy: 0.6519\n",
      "Epoch 6/20\n",
      "25/25 [==============================] - 32s 1s/step - loss: 0.7644 - accuracy: 0.7054 - val_loss: 0.7320 - val_accuracy: 0.6961\n",
      "Epoch 7/20\n",
      "25/25 [==============================] - 32s 1s/step - loss: 0.7596 - accuracy: 0.7345 - val_loss: 0.6601 - val_accuracy: 0.7845\n",
      "Epoch 8/20\n",
      "25/25 [==============================] - 32s 1s/step - loss: 0.7092 - accuracy: 0.7358 - val_loss: 0.6741 - val_accuracy: 0.7569\n",
      "Epoch 9/20\n",
      "25/25 [==============================] - 31s 1s/step - loss: 0.6419 - accuracy: 0.7611 - val_loss: 0.4381 - val_accuracy: 0.8398\n",
      "Epoch 10/20\n",
      "25/25 [==============================] - 32s 1s/step - loss: 0.5980 - accuracy: 0.7712 - val_loss: 0.7299 - val_accuracy: 0.8177\n",
      "Epoch 11/20\n",
      "25/25 [==============================] - 32s 1s/step - loss: 0.5697 - accuracy: 0.8104 - val_loss: 1.2293 - val_accuracy: 0.7459\n",
      "Epoch 12/20\n",
      "25/25 [==============================] - 32s 1s/step - loss: 0.5460 - accuracy: 0.8091 - val_loss: 0.6353 - val_accuracy: 0.8122\n",
      "Epoch 13/20\n",
      "25/25 [==============================] - 32s 1s/step - loss: 0.5222 - accuracy: 0.8154 - val_loss: 0.7583 - val_accuracy: 0.7569\n",
      "Epoch 14/20\n",
      "25/25 [==============================] - 32s 1s/step - loss: 0.4484 - accuracy: 0.8394 - val_loss: 0.9633 - val_accuracy: 0.7956\n",
      "Epoch 15/20\n",
      "25/25 [==============================] - 32s 1s/step - loss: 0.4748 - accuracy: 0.8319 - val_loss: 0.7323 - val_accuracy: 0.7680\n",
      "Epoch 16/20\n",
      "25/25 [==============================] - 32s 1s/step - loss: 0.4288 - accuracy: 0.8407 - val_loss: 0.6142 - val_accuracy: 0.8398\n",
      "Epoch 17/20\n",
      "25/25 [==============================] - 32s 1s/step - loss: 0.4527 - accuracy: 0.8496 - val_loss: 0.8040 - val_accuracy: 0.7735\n",
      "Epoch 18/20\n",
      "25/25 [==============================] - 32s 1s/step - loss: 0.3878 - accuracy: 0.8710 - val_loss: 0.5833 - val_accuracy: 0.8508\n",
      "Epoch 19/20\n",
      "25/25 [==============================] - 32s 1s/step - loss: 0.3595 - accuracy: 0.8736 - val_loss: 0.4984 - val_accuracy: 0.8729\n",
      "Epoch 20/20\n",
      "25/25 [==============================] - 32s 1s/step - loss: 0.4028 - accuracy: 0.8723 - val_loss: 0.3764 - val_accuracy: 0.8785\n"
     ]
    }
   ],
   "source": [
    "history = model.fit(train_gen, epochs = 20, \n",
    "                    #batch_size = batch_size,\n",
    "                    validation_data = val_gen)"
   ]
  },
  {
   "cell_type": "code",
   "execution_count": 14,
   "id": "b829bc44",
   "metadata": {},
   "outputs": [
    {
     "data": {
      "image/png": "[encoded data removed]",
      "text/plain": [
       "<Figure size 432x288 with 1 Axes>"
      ]
     },
     "metadata": {
      "needs_background": "light"
     },
     "output_type": "display_data"
    }
   ],
   "source": [
    "import matplotlib.pyplot as plt\n",
    "fig1 = plt.gcf()\n",
    "plt.plot(history.history['accuracy'])\n",
    "plt.plot(history.history['val_accuracy'])\n",
    "plt.axis(ymin=0.4,ymax=1)\n",
    "plt.grid()\n",
    "plt.title('Model Accuracy')\n",
    "plt.ylabel('Accuracy')\n",
    "plt.xlabel('Epochs')\n",
    "plt.legend(['train', 'validation'])\n",
    "plt.show()"
   ]
  },
  {
   "cell_type": "code",
   "execution_count": 15,
   "id": "522f2047",
   "metadata": {},
   "outputs": [
    {
     "data": {
      "image/png": "[encoded data removed]",
      "text/plain": [
       "<Figure size 432x288 with 1 Axes>"
      ]
     },
     "metadata": {
      "needs_background": "light"
     },
     "output_type": "display_data"
    }
   ],
   "source": [
    "loss_train = history.history['loss']\n",
    "loss_val = history.history['val_loss']\n",
    "epochs = range(1,21)\n",
    "plt.plot(epochs, loss_train, 'g', label='Training loss')\n",
    "plt.plot(epochs, loss_val, 'b', label='validation loss')\n",
    "plt.title('Training and Validation loss')\n",
    "plt.xlabel('Epochs')\n",
    "plt.ylabel('Loss')\n",
    "plt.legend()\n",
    "plt.show()"
   ]
  },
  {
   "cell_type": "code",
   "execution_count": 16,
   "id": "90de383a",
   "metadata": {},
   "outputs": [],
   "source": [
    "import gradio as gr"
   ]
  },
  {
   "cell_type": "code",
   "execution_count": 17,
   "id": "cd3b25f0",
   "metadata": {},
   "outputs": [
    {
     "name": "stdout",
     "output_type": "stream",
     "text": [
      "{0: 'audi', 1: 'bmw', 2: 'lambo', 3: 'merq', 4: 'roll royces'}\n"
     ]
    }
   ],
   "source": [
    "car_classes = train_gen .class_indices\n",
    "labels = dict((v,k) for k,v in car_classes.items())\n",
    "print(labels)"
   ]
  },
  {
   "cell_type": "code",
   "execution_count": 24,
   "id": "415ebfe9",
   "metadata": {},
   "outputs": [],
   "source": [
    "def predict_image(img):\n",
    "  img_4d=img.reshape(-1,150,150,3)\n",
    "  prediction=model.predict(img_4d)[0]\n",
    "  return {labels[i] : float(prediction[i]) for i in range(5)}"
   ]
  },
  {
   "cell_type": "code",
   "execution_count": 25,
   "id": "0fd6865f",
   "metadata": {
    "scrolled": true
   },
   "outputs": [
    {
     "name": "stdout",
     "output_type": "stream",
     "text": [
      "Running on local URL:  http://127.0.0.1:7867\n",
      "Running on public URL: https://24094.gradio.app\n",
      "\n",
      "This share link expires in 72 hours. For free permanent hosting, check out Spaces: https://huggingface.co/spaces\n"
     ]
    },
    {
     "data": {
      "text/html": [
       "<div><iframe src=\"https://24094.gradio.app\" width=\"900\" height=\"500\" allow=\"autoplay; camera; microphone;\" frameborder=\"0\" allowfullscreen></iframe></div>"
      ],
      "text/plain": [
       "<IPython.core.display.HTML object>"
      ]
     },
     "metadata": {},
     "output_type": "display_data"
    },
    {
     "data": {
      "text/plain": [
       "(<gradio.routes.App at 0x132052cd190>,\n",
       " 'http://127.0.0.1:7867/',\n",
       " 'https://24094.gradio.app')"
      ]
     },
     "execution_count": 25,
     "metadata": {},
     "output_type": "execute_result"
    },
    {
     "name": "stdout",
     "output_type": "stream",
     "text": [
      "1/1 [==============================] - 0s 144ms/step\n",
      "1/1 [==============================] - 0s 136ms/step\n",
      "1/1 [==============================] - 0s 137ms/step\n",
      "1/1 [==============================] - 0s 136ms/step\n",
      "1/1 [==============================] - 0s 136ms/step\n",
      "1/1 [==============================] - 0s 128ms/step\n",
      "1/1 [==============================] - 0s 128ms/step\n",
      "1/1 [==============================] - 0s 136ms/step\n",
      "1/1 [==============================] - 0s 136ms/step\n"
     ]
    }
   ],
   "source": [
    "gr.Interface(fn=predict_image, \n",
    "             inputs=gr.Image(shape=(150,150)),\n",
    "             outputs=gr.Label(num_top_classes=5)).launch( share=True)"
   ]
  },
  {
   "cell_type": "code",
   "execution_count": null,
   "id": "c7b084a5",
   "metadata": {},
   "outputs": [],
   "source": []
  }
 ],
 "metadata": {
  "kernelspec": {
   "display_name": "Python 3 (ipykernel)",
   "language": "python",
   "name": "python3"
  },
  "language_info": {
   "codemirror_mode": {
    "name": "ipython",
    "version": 3
   },
   "file_extension": ".py",
   "mimetype": "text/x-python",
   "name": "python",
   "nbconvert_exporter": "python",
   "pygments_lexer": "ipython3",
   "version": "3.9.12"
  }
 },
 "nbformat": 4,
 "nbformat_minor": 5
}
